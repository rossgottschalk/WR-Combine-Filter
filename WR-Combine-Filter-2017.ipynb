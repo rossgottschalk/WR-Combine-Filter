{
 "cells": [
  {
   "cell_type": "code",
   "execution_count": 4,
   "metadata": {
    "collapsed": false
   },
   "outputs": [
    {
     "name": "stdout",
     "output_type": "stream",
     "text": [
      "               Name          School  Height  Weight    40  TripleCone  \\\n",
      "0      Robert Davis   Georgia State    6030     219  4.44        6.82   \n",
      "6    Krishawn Hogan          Marian    6030     222  4.56        6.74   \n",
      "8       Jerome Lane           Akron    6020     226  4.60        6.87   \n",
      "10       Bug Howard  North Carolina    6040     221  4.58        6.95   \n",
      "26  Jalen Robinette       Air Force    6027     220  4.62        6.77   \n",
      "\n",
      "    Vertical  \n",
      "0       41.0  \n",
      "6       36.5  \n",
      "8       35.0  \n",
      "10      37.5  \n",
      "26      31.5  \n"
     ]
    }
   ],
   "source": [
    "import pandas as pd\n",
    "filename = 'WR_Combine_2017.csv'\n",
    "data = pd.read_csv(filename)\n",
    "df = pd.DataFrame(data)\n",
    "\n",
    "df = df[['Name', 'School', 'Height', 'Weight', '40', 'TripleCone', 'Vertical']]\n",
    "\n",
    "df = df[df['Weight'] > 208]\n",
    "df = df[df['TripleCone'] < 7]\n",
    "df = df[df['Weight'] >= 218]\n",
    "\n",
    "print(df)"
   ]
  }
 ],
 "metadata": {
  "kernelspec": {
   "display_name": "Python 3",
   "language": "python",
   "name": "python3"
  },
  "language_info": {
   "codemirror_mode": {
    "name": "ipython",
    "version": 3
   },
   "file_extension": ".py",
   "mimetype": "text/x-python",
   "name": "python",
   "nbconvert_exporter": "python",
   "pygments_lexer": "ipython3",
   "version": "3.6.0"
  }
 },
 "nbformat": 4,
 "nbformat_minor": 2
}
